{
 "cells": [
  {
   "cell_type": "code",
   "execution_count": 7,
   "metadata": {},
   "outputs": [
    {
     "name": "stdout",
     "output_type": "stream",
     "text": [
      "API 요청 URL: https://openapi.naver.com/v1/search/news.json?query=%EC%BD%94%EB%A1%9C%EB%82%98\n",
      "Success\n"
     ]
    }
   ],
   "source": [
    "from urllib.request import Request\n",
    "from urllib.parse import quote\n",
    "import urllib\n",
    "\n",
    "#  요청을 위한 id와 secret\n",
    "client_id = \"LyLsHJjquiOZ9hFbejtW\"\n",
    "client_secret = \"fNXtN5jfj8\"\n",
    "\n",
    "#  검색어 인코딩\n",
    "enc_text = quote(\"코로나\")\n",
    "url = \"https://openapi.naver.com/v1/search/news.json?query={}\".format(enc_text)\n",
    "print(\"API 요청 URL:\", url)\n",
    "\n",
    "# 요청 생성\n",
    "req = Request(url)\n",
    "# API 접근을 위한 인증 정보를 header에 수록\n",
    "req.add_header(\"X-Naver-Client-Id\", client_id)\n",
    "req.add_header(\"X-Naver-Client-Secret\", client_secret)\n",
    "\n",
    "# 응답\n",
    "resp = urllib.request.urlopen(req)\n",
    "\n",
    "respcode = resp.getcode()\n",
    "\n",
    "if respcode == 200: # 성공\n",
    "    resp_body = resp.read().decode(\"utf-8\")\n",
    "    print(\"Success\")\n",
    "else: # 실패\n",
    "    print(\"HTTP-Error: %d\" % respcode)"
   ]
  },
  {
   "cell_type": "code",
   "execution_count": 26,
   "metadata": {},
   "outputs": [
    {
     "name": "stdout",
     "output_type": "stream",
     "text": [
      "[네이버 뉴스 검색 결과]\n",
      "삼성전자, 인도서 3개월 연속 점유율 '1위'…\"반중 정서에 유리한 고지\" - http://www.newsworks.co.kr/news/articleView.html?idxno=492808\n",
      "[종합] 코로나19 국내발생 안정세…연휴 이동 영향은 주말에나 확인 가능 - https://www.etoday.co.kr/news/view/1947513\n",
      "김범수 카카오 의장, 올해만 주식가치 2조6000억원 증가 - http://www.newsway.co.kr/news/view?tp=1&ud=2020100614393583550\n",
      "프롭테크 직방, 이웃벤처 인수해 욕실 주방 청소 서비스 '호텔리브' 운영 - https://www.hankyung.com/realestate/article/202010069815i\n",
      "서울장학재단, 저소득층 대학생 225명에 연간 150만원 장학금 지원…3.3억 규... - http://www.newsworks.co.kr/news/articleView.html?idxno=492813\n",
      "4대 시중은행 지점·영업소 549개소 폐점…일자리 7570개 증발 - http://www.newsworks.co.kr/news/articleView.html?idxno=492790\n",
      "이경호 고양소방서장 취임 100일 맞아···\"시민의 안전과 행복을 위해 최고... - http://www.siminilbo.co.kr/news/newsview.php?ncode=1065589273679623\n",
      "“만행 알려달라”…北 피격 공무원 친형, UN에 진상조사 요청 - https://www.donga.com/news/article/all/20201006/103266289/2\n",
      "노원구, 1인 청년 창업인·예비창업자에 하계동 공공임대주택 37가구 공급 - http://www.siminilbo.co.kr/news/newsview.php?ncode=1065590907378848\n",
      "백악관 기자들 집단감염..\"북한이 더 안전\" - http://www.fnnews.com/news/202010061438256733\n"
     ]
    }
   ],
   "source": [
    "# 응답의 확인\n",
    "# print(resp_body)\n",
    "# json text -> json object\n",
    "import json\n",
    "from html import unescape # html 특수 문자 -> 원래 문자로\n",
    "\n",
    "json_obj = json.loads(resp_body)\n",
    "# print(\"JSON:\", json_obj, type(json_obj))\n",
    "json_items = json_obj['items']\n",
    "# print(json_items)\n",
    "\n",
    "# title과 description 내의 태그 제거\n",
    "import re\n",
    "def remove_tag(html):\n",
    "    \"태그 제거용 함수\"\n",
    "    \n",
    "    tag_pattern = re.compile(r\"<[^>]+>\")\n",
    "    return tag_pattern.sub('', unescape(html))\n",
    "\n",
    "news_list = []\n",
    "for item in json_items:\n",
    "    news = {\n",
    "        \"title\": remove_tag(item['title']),\n",
    "        \"link\": item['originallink'],\n",
    "        \"description\": remove_tag(item['description'])\n",
    "    }\n",
    "    news_list.append(news)\n",
    "    \n",
    "print(\"[네이버 뉴스 검색 결과]\")\n",
    "for news in news_list:\n",
    "    print(\"{} - {}\".format(news['title'], news['link']))"
   ]
  },
  {
   "cell_type": "code",
   "execution_count": null,
   "metadata": {},
   "outputs": [],
   "source": []
  }
 ],
 "metadata": {
  "kernelspec": {
   "display_name": "Python 3",
   "language": "python",
   "name": "python3"
  },
  "language_info": {
   "codemirror_mode": {
    "name": "ipython",
    "version": 3
   },
   "file_extension": ".py",
   "mimetype": "text/x-python",
   "name": "python",
   "nbconvert_exporter": "python",
   "pygments_lexer": "ipython3",
   "version": "3.7.3"
  }
 },
 "nbformat": 4,
 "nbformat_minor": 4
}

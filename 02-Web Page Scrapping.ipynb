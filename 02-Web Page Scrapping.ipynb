{
 "cells": [
  {
   "cell_type": "code",
   "execution_count": 2,
   "metadata": {},
   "outputs": [
    {
     "name": "stdout",
     "output_type": "stream",
     "text": [
      "SUCCESS\n"
     ]
    }
   ],
   "source": [
    "# urllib 임포트\n",
    "from urllib.request import urlopen\n",
    "from bs4 import BeautifulSoup\n",
    "\n",
    "# https://news.daum.net/\n",
    "req = urlopen(\"https://news.daum.net/\")\n",
    "# print(\"응답 코드:\", req.getcode())\n",
    "\n",
    "if req.getcode() == 200:\n",
    "    # html 받아오기\n",
    "    html = req.read()\n",
    "    html = html.decode(\"utf-8\")\n",
    "    print(\"SUCCESS\")\n",
    "else:\n",
    "    print(\"HTTP-ERROR\")"
   ]
  },
  {
   "cell_type": "code",
   "execution_count": 3,
   "metadata": {},
   "outputs": [
    {
     "name": "stdout",
     "output_type": "stream",
     "text": [
      "문서 제목: 홈 | 다음뉴스\n"
     ]
    }
   ],
   "source": [
    "# text -> html DOM으로 변경\n",
    "soup = BeautifulSoup(html, \"html.parser\")\n",
    "# print(soup.prettify())\n",
    "# 문서 정보의 확인\n",
    "print(\"문서 제목:\", soup.title.text)"
   ]
  },
  {
   "cell_type": "code",
   "execution_count": 15,
   "metadata": {
    "scrolled": false
   },
   "outputs": [
    {
     "name": "stdout",
     "output_type": "stream",
     "text": [
      "다음 뉴스 주요 기사:\n",
      "공정경제 3법 막기 위해 경제단체들 뭉쳤다..공동 대응 합의 - https://news.v.daum.net/v/20201007180924734\n",
      "\"홍수 피해 키운 환경부\"..여야 댐 방류 관리 질타 - https://news.v.daum.net/v/20201007180902724\n",
      "성일종 \"집회 막아놓고 이낙연은 봉하마을서 사람들 만나\" - https://news.v.daum.net/v/20201007180828716\n",
      "서욱 \"북 피격, 포괄적 적대행위..모든 책임 북한에\" - https://news.v.daum.net/v/20201007180819713\n",
      "트럼프, 확진 후 더 벌어졌다..바이든과 16%p 격차 - https://news.v.daum.net/v/20201007180818712\n",
      "빅히트 청약 효과..증권사 예탁금·CMA 잔고 일제히 급감 - https://news.v.daum.net/v/20201007180808705\n",
      "줄지 않는 외국인 범죄..마약 범죄는 계속 늘어 - https://news.v.daum.net/v/20201007180757698\n",
      "서울시, 중랑물재생센터에 '물산업클러스터' 만든다 - https://news.v.daum.net/v/20201007180728692\n",
      "임성훈 대구은행장 \"지역사회와 위기를 함께 극복\" - https://news.v.daum.net/v/20201007180720689\n",
      "도넘은 악플에 고통받는 북한 피격 공무원 유족 - https://news.v.daum.net/v/20201007180604664\n",
      "\"네이버의 국회 농단\" vs \"의원 모욕하냐\"..네이버로 난리통 된 과방위 국감 - https://news.v.daum.net/v/20201007180557654\n",
      "넷플릭스 '4시간27분' 먹통!.. '모르쇠' - https://news.v.daum.net/v/20201007180535648\n",
      "교통사고 - https://gallery.v.daum.net/p/viewer/1473/\n",
      "포토친구 - https://gallery.v.daum.net/p/viewer/379/\n",
      "경향이 찍은 오늘 - https://gallery.v.daum.net/p/viewer/405/\n",
      "'코로나19' 바이러스 - https://gallery.v.daum.net/p/viewer/5014013/\n",
      "1 위\n",
      "                            \"美대법관 지명자, 사이비 교도 창시자와 함께 살았다\" - https://news.v.daum.net/v/20201007123018346\n",
      "2 위\n",
      "                            \"전 면책특권\" 국감에서 대법원 사이트 해킹, 너무 쉽게 뚫렸다 - https://news.v.daum.net/v/20201007153004789\n",
      "3 위\n",
      "                            중국 갑부 108조각 토막살해범 징역2년4개월..\"친절하고 반성\" - https://news.v.daum.net/v/20201007131404649\n",
      "4 위\n",
      "                            겉과 속이 비슷한 비말마스크..어떻게 써야 할까 - https://news.v.daum.net/v/20201007150114467\n",
      "5 위\n",
      "                            또 나온 국감장 막말..박성중 \"공공 와이파이 구축? '또라이'\" - https://news.v.daum.net/v/20201007152403507\n",
      "1 위\n",
      "                            강경화 \"남편, 말린다고 말려질 사람 아냐\"..재차 사과 - https://news.v.daum.net/v/20201007171803781\n",
      "2 위\n",
      "                            금태섭, '명예훼손 고소' 김용민에 \"스스로 진보라 생각하나\" - https://news.v.daum.net/v/20201007163747856\n",
      "3 위\n",
      "                            김진애 \"나경원 압수수색 영장 모두 기각..판사 카르텔\" - https://news.v.daum.net/v/20201007162202270\n",
      "4 위\n",
      "                            [단독] 임대업으로 월 3000만원 버는 경찰..'투잡 공무원' 천태만상 - https://news.v.daum.net/v/20201007171103437\n",
      "5 위\n",
      "                            주호영 \"K방역? 누가 지었나\" 김성주 \"인정할 건 인정해야\" - https://news.v.daum.net/v/20201007173449534\n",
      "[여기는 인도] 성폭행 저항하다가..13세 소녀, 가해자에게 화상까지 입어 - https://v.daum.net/v/20201007152606597\n",
      "심야에 드론 띄워 고층 아파트 성관계 영상 촬영 - https://v.daum.net/v/20201007155950355\n",
      "논산서 초등생 남매 5개월째 행방불명..엄마도 연락두절 - https://v.daum.net/v/20201007162402319\n",
      "강경화 \"남편, 말린다고 말려질 사람 아냐\"..재차 사과 - https://v.daum.net/v/20201007171803781\n",
      "[단독]상관 목에 밧줄 걸고, 소주병 폭행..軍 하극상, 3년간 평균 200건 - https://v.daum.net/v/20201007152011359\n",
      "\"사람 없어요\"..코로나19 확산에 '유령도시'로 변한 정읍 시내 - https://v.daum.net/v/20201007164813302\n",
      "\"1687만원 넣었는데 빅히트 1주 받았네?\"..청약자 '둥절' - https://v.daum.net/v/20201007165523607\n",
      "금태섭, '명예훼손 고소' 김용민에 \"스스로 진보라 생각하나\" - https://v.daum.net/v/20201007163747856\n"
     ]
    }
   ],
   "source": [
    "# 주요 기사 div를 검색\n",
    "# select or find\n",
    "articles = soup.select(\"#mArticle\")[0] # id=mArticle\n",
    "# print(articles[0],(type(articles)\n",
    "#print(articles.prettify())\n",
    "# div#mArticle 자손인 a.link_txt를 검색\n",
    "links = articles.select(\"a.link_txt\") # class=link_txt인 a 태그\n",
    "#print(links[0])\n",
    "# 기사 목록을 { \"link\": ..... \"title\": ...} 의 리스트\n",
    "\n",
    "news_list = []\n",
    "\n",
    "for link in links:\n",
    "#    print(link)\n",
    "    news = {\n",
    "        \"link\": link['href'], # 속성에 접근\n",
    "        \"title\": link.text.strip()\n",
    "    }\n",
    "    news_list.append(news)\n",
    "    \n",
    "#print(news_list)\n",
    "print(\"다음 뉴스 주요 기사:\")\n",
    "for news in news_list:\n",
    "    print(\"{} - {}\".format(news.get('title'), news.get('link')))"
   ]
  },
  {
   "cell_type": "code",
   "execution_count": 4,
   "metadata": {},
   "outputs": [],
   "source": [
    "# 연습\n",
    "# 다음 뉴스 상단 div# cSub인 뉴스 수집"
   ]
  },
  {
   "cell_type": "code",
   "execution_count": 5,
   "metadata": {},
   "outputs": [],
   "source": [
    "# https://movie.naver.com/movie/running/current.nhn\n",
    "# 영화 순위를 수집\n",
    "req = urlopen(\"https://movie.naver.com/movie/running/current.nhn\")\n",
    "html_str = req.read().decode('utf-8')\n",
    "# print(html_str[:256]) # html text"
   ]
  },
  {
   "cell_type": "code",
   "execution_count": 6,
   "metadata": {},
   "outputs": [],
   "source": [
    "# DOM 변환\n",
    "soup = BeautifulSoup(html_str, \"html.parser\")\n",
    "# print(soup.body)"
   ]
  },
  {
   "cell_type": "code",
   "execution_count": 7,
   "metadata": {},
   "outputs": [
    {
     "name": "stdout",
     "output_type": "stream",
     "text": [
      "네이버 영화 순위\n",
      "1위 - 담보 : /movie/bi/mi/basic.nhn?code=183866\n",
      "2위 - 국제수사 : /movie/bi/mi/basic.nhn?code=175393\n",
      "3위 - 그린랜드 : /movie/bi/mi/basic.nhn?code=195983\n",
      "4위 - 테넷 : /movie/bi/mi/basic.nhn?code=190010\n",
      "5위 - 극장판 포켓몬스터 뮤츠의 역습 EVOLUTION : /movie/bi/mi/basic.nhn?code=187305\n",
      "6위 - 극장판 미니특공대: 햄버거괴물의 습격 : /movie/bi/mi/basic.nhn?code=196839\n",
      "7위 - 죽지않는 인간들의 밤 : /movie/bi/mi/basic.nhn?code=183854\n",
      "8위 - 검객 : /movie/bi/mi/basic.nhn?code=165287\n",
      "9위 - 브레이크 더 사일런스: 더 무비 : /movie/bi/mi/basic.nhn?code=195975\n",
      "10위 - 극장판 엉덩이 탐정: 텐텐마을의 수수께끼 : /movie/bi/mi/basic.nhn?code=196859\n",
      "11위 - 뮬란 : /movie/bi/mi/basic.nhn?code=167491\n",
      "12위 - 해수의 아이 : /movie/bi/mi/basic.nhn?code=186110\n",
      "13위 - 아웃포스트 : /movie/bi/mi/basic.nhn?code=195450\n",
      "14위 - 디바 : /movie/bi/mi/basic.nhn?code=177039\n",
      "15위 - 마르지엘라 : /movie/bi/mi/basic.nhn?code=192883\n",
      "16위 - 기기괴괴 성형수 : /movie/bi/mi/basic.nhn?code=194644\n",
      "17위 - 강철비2: 정상회담 : /movie/bi/mi/basic.nhn?code=188909\n",
      "18위 - 남매의 여름밤 : /movie/bi/mi/basic.nhn?code=189623\n",
      "19위 - 오! 문희 : /movie/bi/mi/basic.nhn?code=179859\n",
      "20위 - 프란시스 하 : /movie/bi/mi/basic.nhn?code=98738\n",
      "21위 - 교실 안의 야크 : /movie/bi/mi/basic.nhn?code=189393\n",
      "22위 - 도망친 여자 : /movie/bi/mi/basic.nhn?code=192191\n",
      "23위 - 우리가 이별 뒤에 알게 되는 것들 : /movie/bi/mi/basic.nhn?code=188465\n",
      "24위 - 카일라스 가는 길 : /movie/bi/mi/basic.nhn?code=178687\n",
      "25위 - 보테로 : /movie/bi/mi/basic.nhn?code=180264\n",
      "26위 - 다시 만난 날들 : /movie/bi/mi/basic.nhn?code=195690\n",
      "27위 - 테스와 보낸 여름 : /movie/bi/mi/basic.nhn?code=183278\n",
      "28위 - 공포분자 : /movie/bi/mi/basic.nhn?code=31130\n",
      "29위 - 소년시절의 너 : /movie/bi/mi/basic.nhn?code=192066\n",
      "30위 - 다만 악에서 구하소서 : /movie/bi/mi/basic.nhn?code=189069\n",
      "31위 - 드라이브 : /movie/bi/mi/basic.nhn?code=80466\n",
      "32위 - 극장판 짱구는 못말려: 신혼여행 허리케인~ 사라진 아빠! : /movie/bi/mi/basic.nhn?code=183772\n",
      "33위 - 후쿠오카 : /movie/bi/mi/basic.nhn?code=182353\n",
      "34위 - 69세 : /movie/bi/mi/basic.nhn?code=189373\n",
      "35위 - 나를 구하지 마세요 : /movie/bi/mi/basic.nhn?code=193330\n",
      "36위 - 마티아스와 막심 : /movie/bi/mi/basic.nhn?code=185273\n",
      "37위 - 낙엽귀근 : /movie/bi/mi/basic.nhn?code=66320\n",
      "38위 - 워터 릴리스 : /movie/bi/mi/basic.nhn?code=67457\n",
      "39위 - 극장판 시로바코 : /movie/bi/mi/basic.nhn?code=192612\n",
      "40위 - 동아시아반일무장전선 : /movie/bi/mi/basic.nhn?code=185139\n",
      "41위 - 하워즈 엔드 : /movie/bi/mi/basic.nhn?code=13636\n",
      "42위 - 보리밭을 흔드는 바람 : /movie/bi/mi/basic.nhn?code=49380\n",
      "43위 - 타샤 튜더 : /movie/bi/mi/basic.nhn?code=177335\n",
      "44위 - 너의 이름은. : /movie/bi/mi/basic.nhn?code=150198\n",
      "45위 - 마음 울적한 날엔 : /movie/bi/mi/basic.nhn?code=195652\n",
      "46위 - 천국보다 낯선 : /movie/bi/mi/basic.nhn?code=10624\n",
      "47위 - 고령가 소년 살인사건 : /movie/bi/mi/basic.nhn?code=10922\n",
      "48위 - 타오르는 여인의 초상 : /movie/bi/mi/basic.nhn?code=185282\n",
      "49위 - 타이페이 스토리 : /movie/bi/mi/basic.nhn?code=10676\n",
      "50위 - 비독: 파리의 황제 : /movie/bi/mi/basic.nhn?code=182793\n",
      "51위 - 루스 베이더 긴즈버그 : 나는 반대한다 : /movie/bi/mi/basic.nhn?code=172605\n",
      "52위 - 날씨의 아이 : /movie/bi/mi/basic.nhn?code=181114\n",
      "53위 - 반교: 디텐션 : /movie/bi/mi/basic.nhn?code=189618\n",
      "54위 - 이십일세기 소녀 : /movie/bi/mi/basic.nhn?code=186487\n",
      "55위 - 블레이드 러너 2049 : /movie/bi/mi/basic.nhn?code=88227\n",
      "56위 - 하얀 리본 : /movie/bi/mi/basic.nhn?code=52983\n",
      "57위 - 경계선 : /movie/bi/mi/basic.nhn?code=175045\n",
      "58위 - 스파이더맨: 뉴 유니버스 : /movie/bi/mi/basic.nhn?code=171725\n",
      "59위 - 구르는 수레바퀴 : /movie/bi/mi/basic.nhn?code=189440\n",
      "60위 - 소년 아메드 : /movie/bi/mi/basic.nhn?code=185269\n",
      "61위 - 백년의 기억 : /movie/bi/mi/basic.nhn?code=188162\n",
      "62위 - 에이바 : /movie/bi/mi/basic.nhn?code=195377\n",
      "63위 - 치어리딩 클럽 : /movie/bi/mi/basic.nhn?code=183116\n",
      "64위 - 퍼스널 쇼퍼 : /movie/bi/mi/basic.nhn?code=144221\n",
      "65위 - 500일의 썸머 : /movie/bi/mi/basic.nhn?code=53152\n",
      "66위 - 걸작 : /movie/bi/mi/basic.nhn?code=182642\n",
      "67위 - 디트로이트 : /movie/bi/mi/basic.nhn?code=152689\n",
      "68위 - 라붐 : /movie/bi/mi/basic.nhn?code=10117\n",
      "69위 - 레이디 버드 : /movie/bi/mi/basic.nhn?code=158611\n",
      "70위 - 브리짓 존스의 일기 : /movie/bi/mi/basic.nhn?code=31565\n",
      "71위 - 사랑과 영혼 : /movie/bi/mi/basic.nhn?code=10173\n",
      "72위 - 사랑하는 시바여 돌아오라 : /movie/bi/mi/basic.nhn?code=30335\n",
      "73위 - 샤인 : /movie/bi/mi/basic.nhn?code=17970\n",
      "74위 - 셰이프 오브 뮤직: 알렉상드르 데스플라 : /movie/bi/mi/basic.nhn?code=177608\n",
      "75위 - 스프링 브레이커스 : /movie/bi/mi/basic.nhn?code=92005\n",
      "76위 - 십계 : /movie/bi/mi/basic.nhn?code=10064\n",
      "77위 - 아이 캔 온리 이매진 : /movie/bi/mi/basic.nhn?code=169647\n",
      "78위 - 알제리 전투 : /movie/bi/mi/basic.nhn?code=10378\n",
      "79위 - 제로 다크 서티 : /movie/bi/mi/basic.nhn?code=85141\n",
      "80위 - 제리 맥과이어 : /movie/bi/mi/basic.nhn?code=17942\n",
      "81위 - 톰보이 : /movie/bi/mi/basic.nhn?code=85825\n",
      "82위 - 트립 투 이탈리아 : /movie/bi/mi/basic.nhn?code=119272\n",
      "83위 - 피아니스트 : /movie/bi/mi/basic.nhn?code=35187\n",
      "84위 - 거룩한 분노 : /movie/bi/mi/basic.nhn?code=162098\n",
      "85위 - 나의 산티아고 : /movie/bi/mi/basic.nhn?code=146311\n",
      "86위 - 다운폴 : /movie/bi/mi/basic.nhn?code=39462\n",
      "87위 - 닥터 슬립 : /movie/bi/mi/basic.nhn?code=185912\n",
      "88위 - 더 파티 : /movie/bi/mi/basic.nhn?code=159110\n",
      "89위 - 리스본행 야간열차 : /movie/bi/mi/basic.nhn?code=103178\n",
      "90위 - 미스 사이공: 25주년 특별 공연 : /movie/bi/mi/basic.nhn?code=155123\n",
      "91위 - 베로니카의 이중 생활 : /movie/bi/mi/basic.nhn?code=10874\n",
      "92위 - 베를린 천사의 시 : /movie/bi/mi/basic.nhn?code=10568\n",
      "93위 - 분노의 질주: 홉스&쇼 : /movie/bi/mi/basic.nhn?code=182355\n",
      "94위 - 비투스 : /movie/bi/mi/basic.nhn?code=62390\n",
      "95위 - 영원과 하루 : /movie/bi/mi/basic.nhn?code=21133\n",
      "96위 - 위대한 쇼맨 : /movie/bi/mi/basic.nhn?code=106360\n",
      "97위 - 위크엔드 인 파리 : /movie/bi/mi/basic.nhn?code=113155\n",
      "98위 - 쥬만지: 넥스트 레벨 : /movie/bi/mi/basic.nhn?code=187349\n",
      "99위 - 포드 V 페라리 : /movie/bi/mi/basic.nhn?code=181710\n",
      "100위 - 홀리 모터스 : /movie/bi/mi/basic.nhn?code=95251\n"
     ]
    }
   ],
   "source": [
    "# ul.lst_detail_t1\n",
    "current_movies = soup.select(\"ul.lst_detail_t1 > li\") \n",
    "# class=lst_detail_t1인 ul의 자식인 li 태그들\n",
    "# print(current_movies)\n",
    "\n",
    "# 영화 세부 정보 검색\n",
    "movie_list = []\n",
    "\n",
    "for movie in current_movies: # li\n",
    "    titles = movie.select(\"dl.lst_dsc > .tit > a\")[0]\n",
    "    \n",
    "    info = {\"title\": titles.text.strip(), \"link\": titles['href']}\n",
    "    movie_list.append(info)\n",
    "    \n",
    "# print(movie_list)\n",
    "print(\"네이버 영화 순위\")\n",
    "\n",
    "for rank, info in enumerate(movie_list):\n",
    "    print(\"{}위 - {} : {}\".format(rank+1, info['title'], info['link']))"
   ]
  },
  {
   "cell_type": "code",
   "execution_count": 1,
   "metadata": {},
   "outputs": [
    {
     "ename": "NameError",
     "evalue": "name 'current_movies' is not defined",
     "output_type": "error",
     "traceback": [
      "\u001b[1;31m---------------------------------------------------------------------------\u001b[0m",
      "\u001b[1;31mNameError\u001b[0m                                 Traceback (most recent call last)",
      "\u001b[1;32m<ipython-input-1-01c416316454>\u001b[0m in \u001b[0;36m<module>\u001b[1;34m\u001b[0m\n\u001b[0;32m     10\u001b[0m     \u001b[0mos\u001b[0m\u001b[1;33m.\u001b[0m\u001b[0mmakedirs\u001b[0m\u001b[1;33m(\u001b[0m\u001b[1;34m\"d:/data_science/crawl\"\u001b[0m\u001b[1;33m)\u001b[0m \u001b[1;31m# 생성\u001b[0m\u001b[1;33m\u001b[0m\u001b[1;33m\u001b[0m\u001b[0m\n\u001b[0;32m     11\u001b[0m \u001b[1;33m\u001b[0m\u001b[0m\n\u001b[1;32m---> 12\u001b[1;33m \u001b[1;32mfor\u001b[0m \u001b[0mmovie\u001b[0m \u001b[1;32min\u001b[0m \u001b[0mcurrent_movies\u001b[0m\u001b[1;33m:\u001b[0m\u001b[1;33m\u001b[0m\u001b[1;33m\u001b[0m\u001b[0m\n\u001b[0m\u001b[0;32m     13\u001b[0m     \u001b[0mimg_tag\u001b[0m \u001b[1;33m=\u001b[0m \u001b[0mmovie\u001b[0m\u001b[1;33m.\u001b[0m\u001b[0mselect\u001b[0m\u001b[1;33m(\u001b[0m\u001b[1;34m\"img\"\u001b[0m\u001b[1;33m)\u001b[0m\u001b[1;33m[\u001b[0m\u001b[1;36m0\u001b[0m\u001b[1;33m]\u001b[0m\u001b[1;33m\u001b[0m\u001b[1;33m\u001b[0m\u001b[0m\n\u001b[0;32m     14\u001b[0m \u001b[1;31m#     print(\"포스터:\", img_tag)\u001b[0m\u001b[1;33m\u001b[0m\u001b[1;33m\u001b[0m\u001b[1;33m\u001b[0m\u001b[0m\n",
      "\u001b[1;31mNameError\u001b[0m: name 'current_movies' is not defined"
     ]
    }
   ],
   "source": [
    "#  이미지 다운로드\n",
    "#  ul.lst_detail_t1 > li -> img\n",
    "#  img 태그의 속성 src, alt(대체 텍스트)\n",
    "#  저장 디렉터리 확인\n",
    "import os\n",
    "import re # 정규표현식\n",
    "from urllib.request import urlretrieve\n",
    "\n",
    "if not os.path.exists(\"d:/data_science/crawl\"): # 디렉터리 없으면\n",
    "    os.makedirs(\"d:/data_science/crawl\") # 생성\n",
    "    \n",
    "for movie in current_movies:\n",
    "    img_tag = movie.select(\"img\")[0]\n",
    "#     print(\"포스터:\", img_tag)\n",
    "#     print(\"src:\", img_tag['src'])\n",
    "#     print(\"alt:\", img_tag['alt'])\n",
    "    # 파일명으로 사용할 수 없는 문자를 제거\n",
    "    title = img_tag['alt']\n",
    "    title = re.sub(r\"[\\/:*?<>|.]\", \"-\", title.strip())\n",
    "#     print(\"정제된 제목\", title)\n",
    "    src = img_tag['src'] # 이미지 주소\n",
    "    target = \"d:/data-science/crawl/{}.jpg\".format(title)\n",
    "    \n",
    "    # 이미지 다운로드 : urlretrieve\n",
    "    urlretrieve(src, target)\n",
    "    print(\".\", end=\"\")\n",
    "else:\n",
    "    print(\"Download Compelete!\")"
   ]
  },
  {
   "cell_type": "code",
   "execution_count": 9,
   "metadata": {},
   "outputs": [],
   "source": [
    "# 연습문제\n",
    "# https://movie.naver.com/movie/running/premovie.nhn\n",
    "# 개봉 예정 영화 정보를 수집해 봅시다"
   ]
  },
  {
   "cell_type": "code",
   "execution_count": null,
   "metadata": {},
   "outputs": [],
   "source": []
  }
 ],
 "metadata": {
  "kernelspec": {
   "display_name": "Python 3",
   "language": "python",
   "name": "python3"
  },
  "language_info": {
   "codemirror_mode": {
    "name": "ipython",
    "version": 3
   },
   "file_extension": ".py",
   "mimetype": "text/x-python",
   "name": "python",
   "nbconvert_exporter": "python",
   "pygments_lexer": "ipython3",
   "version": "3.7.3"
  }
 },
 "nbformat": 4,
 "nbformat_minor": 4
}
